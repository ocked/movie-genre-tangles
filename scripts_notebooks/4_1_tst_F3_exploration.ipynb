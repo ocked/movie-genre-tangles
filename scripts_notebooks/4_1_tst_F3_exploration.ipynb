{
 "cells": [
  {
   "cell_type": "code",
   "execution_count": null,
   "metadata": {},
   "outputs": [],
   "source": [
    "%load_ext autoreload\n",
    "%autoreload 2"
   ]
  },
  {
   "cell_type": "code",
   "execution_count": null,
   "metadata": {},
   "outputs": [],
   "source": [
    "import numpy as np\n",
    "import pandas as pd\n",
    "import ast\n",
    "import pickle\n",
    "import matplotlib.pyplot as plt\n",
    "from matplotlib.patches import Patch\n",
    "import matplotlib.cm as cm\n",
    "from movie_genre_tangles.convenience import *\n",
    "from sklearn.decomposition import PCA\n",
    "from sklearn.metrics import silhouette_score\n",
    "from sklearn.cluster import KMeans\n",
    "\n",
    "pd.set_option('display.max_rows', None)\n",
    "pd.set_option('display.max_columns', None)\n",
    "pd.set_option('display.width', None)"
   ]
  },
  {
   "cell_type": "code",
   "execution_count": null,
   "metadata": {},
   "outputs": [],
   "source": [
    "seps, sepidtokeyword = csv_to_setseperationsystem('../data/data_F3.csv')\n",
    "with open('../orders/orders_O12_K3', 'rb') as f:\n",
    "    order_O12 = pickle.load(f)\n",
    "lvltokeyword = [sepidtokeyword[x] for x in np.argsort(order_O12)[:140]]\n",
    "with open('../results/interesting_umbrella_tm_K3.pkl', 'rb') as f:\n",
    "    interesting_umbrella_tm = pickle.load(f)\n",
    "oriented_seps = seps[:,np.argsort(order_O12)[:140]]"
   ]
  },
  {
   "cell_type": "markdown",
   "metadata": {},
   "source": [
    "Checks if any level is associated with more than one keyword:"
   ]
  },
  {
   "cell_type": "code",
   "execution_count": null,
   "metadata": {},
   "outputs": [],
   "source": [
    "np.any([len(x) > 1 for x in lvltokeyword])"
   ]
  },
  {
   "cell_type": "markdown",
   "metadata": {},
   "source": [
    "Plots the matrix containing the interesting umbrella tangles:"
   ]
  },
  {
   "cell_type": "code",
   "execution_count": null,
   "metadata": {},
   "outputs": [],
   "source": [
    "cmap = plt.get_cmap('viridis')\n",
    "legend_elements = [\n",
    "    Patch(facecolor=cmap(1.0), label='positive side'),\n",
    "    Patch(facecolor=cmap(0.0), label='negative side'),\n",
    "    Patch(facecolor=cmap(0.5), label='neither'),\n",
    "]\n",
    "\n",
    "plt.matshow(interesting_umbrella_tm[:600])\n",
    "plt.gca().set_aspect('auto')\n",
    "plt.gca().xaxis.set_label_position('top')\n",
    "plt.legend()\n",
    "plt.xlabel('order of potential feature')\n",
    "plt.ylabel('tangle')\n",
    "plt.legend(handles=legend_elements, bbox_to_anchor=(1, 0.98), title = 'tangle contains')\n",
    "#plt.savefig('/home/ocke/Documents/BA-Tangles/tex/images/tm_entropy_K_1.png', bbox_inches='tight')\n",
    "\n",
    "plt.matshow(interesting_umbrella_tm[600:])\n",
    "plt.gca().set_aspect('auto')\n",
    "plt.gca().xaxis.set_label_position('top')\n",
    "plt.xlabel('order of potential feature')\n",
    "plt.ylabel('tangle')\n",
    "plt.yticks(ticks = np.arange(0, 601, 100), labels = np.arange(600, 1231, 100))\n",
    "#plt.savefig('/home/ocke/Documents/BA-Tangles/tex/images/tm_entropy_K_2.png', bbox_inches='tight')"
   ]
  },
  {
   "cell_type": "markdown",
   "metadata": {},
   "source": [
    "Plots for each level the percentage of tangles containing the assoziated keyword:"
   ]
  },
  {
   "cell_type": "code",
   "execution_count": null,
   "metadata": {},
   "outputs": [],
   "source": [
    "plt.scatter(range(interesting_umbrella_tm.shape[1]),((interesting_umbrella_tm == 1).sum(axis = 0) / interesting_umbrella_tm.shape[0]))\n",
    "plt.xlabel(r'order of potential feature $k$')\n",
    "plt.ylabel(r'proportion of tangles containing $k$')\n",
    "#plt.savefig('/home/ocke/Documents/BA-Tangles/tex/images/proportions_separations.png', bbox_inches='tight')"
   ]
  },
  {
   "cell_type": "markdown",
   "metadata": {},
   "source": [
    "Counts the number of interessting umbrella tangles containing at least 1 and 2 keywords assosiated with one of the first 10 levels:"
   ]
  },
  {
   "cell_type": "code",
   "execution_count": null,
   "metadata": {},
   "outputs": [],
   "source": [
    "print(((interesting_umbrella_tm[:,:10] == 1).sum(axis = 1) >= 1).sum())\n",
    "print(((interesting_umbrella_tm[:,:10] == 1).sum(axis = 1) >= 2).sum())"
   ]
  },
  {
   "cell_type": "markdown",
   "metadata": {},
   "source": [
    "Prints all keywords, that are not contained in any tangle:"
   ]
  },
  {
   "cell_type": "code",
   "execution_count": null,
   "metadata": {},
   "outputs": [],
   "source": [
    "[lvltokeyword[x] for x in np.where((interesting_umbrella_tm == 1).sum(axis = 0) == 0)[0]]"
   ]
  },
  {
   "cell_type": "markdown",
   "metadata": {},
   "source": [
    "Calculates the core of each tangle and counts the tangles with less than 3 movies in its core:"
   ]
  },
  {
   "cell_type": "code",
   "execution_count": null,
   "metadata": {},
   "outputs": [],
   "source": [
    "cores = {}\n",
    "for i in range(interesting_umbrella_tm.shape[0]):\n",
    "    pos = np.where(interesting_umbrella_tm[i] == 1)[0]\n",
    "    core = np.where(oriented_seps[:,pos].min(axis = 1) == 1)[0]\n",
    "    cores[i] = core.size   \n",
    "small_cores = [x for x in cores.keys() if cores[x] < 3]\n",
    "len(small_cores)"
   ]
  },
  {
   "cell_type": "markdown",
   "metadata": {},
   "source": [
    "Calculates corpora of the tangles and their sizes:"
   ]
  },
  {
   "cell_type": "code",
   "execution_count": null,
   "metadata": {},
   "outputs": [],
   "source": [
    "corpora = np.zeros((seps.shape[0], interesting_umbrella_tm.shape[0]))\n",
    "for i in range(seps.shape[0]):\n",
    "    match = (interesting_umbrella_tm[:,(oriented_seps[i] == 1)] == 1).sum(axis = 1)\n",
    "    corpora[i, np.where(match >= 3)] = 1\n",
    "corpora_sizes = (corpora == 1).sum(axis = 0)"
   ]
  },
  {
   "cell_type": "markdown",
   "metadata": {},
   "source": [
    "Counts how many movies are in the corpus of at least one tangle:"
   ]
  },
  {
   "cell_type": "code",
   "execution_count": null,
   "metadata": {},
   "outputs": [],
   "source": [
    "((corpora == 1).any(axis = 1)).sum()"
   ]
  },
  {
   "cell_type": "markdown",
   "metadata": {},
   "source": [
    "Calculates the first two principal componets of the matrix containing the interesting umbrella tangles:"
   ]
  },
  {
   "cell_type": "code",
   "execution_count": null,
   "metadata": {},
   "outputs": [],
   "source": [
    "pca = PCA(n_components= 2)\n",
    "principal_components = pca.fit_transform(interesting_umbrella_tm)\n",
    "pca_df = pd.DataFrame(data=principal_components, columns=['PC1', 'PC2'])"
   ]
  },
  {
   "cell_type": "markdown",
   "metadata": {},
   "source": [
    "Finds the optimal number of clusters:"
   ]
  },
  {
   "cell_type": "code",
   "execution_count": null,
   "metadata": {},
   "outputs": [],
   "source": [
    "silhouette_scores = []\n",
    "k_values = range(2, 50)\n",
    "\n",
    "for k in k_values:\n",
    "    kmeans = KMeans(n_clusters=k, random_state = 42)\n",
    "    kmeans.fit(pca_df[['PC1', 'PC2']])\n",
    "    score = silhouette_score(pca_df[['PC1', 'PC2']], kmeans.labels_)\n",
    "    silhouette_scores.append(score)\n",
    "plt.plot(k_values, silhouette_scores, marker='o')\n",
    "plt.xlabel('number of cluster k')\n",
    "plt.ylabel('Silhouette-Score')\n",
    "plt.title('Silhouette-Analyse')\n",
    "plt.grid()\n",
    "plt.show()\n",
    "\n",
    "print(\"For\", k_values[np.argmax(silhouette_scores)], \"clusters we get the best average silhouette score of\", np.max(silhouette_scores))"
   ]
  },
  {
   "cell_type": "markdown",
   "metadata": {},
   "source": [
    "Clusters the Tangles and plots them:"
   ]
  },
  {
   "cell_type": "code",
   "execution_count": null,
   "metadata": {},
   "outputs": [],
   "source": [
    "kmeans = KMeans(n_clusters=10, random_state=42)\n",
    "pca_df['Cluster'] = kmeans.fit_predict(pca_df[['PC1', 'PC2']])\n",
    "\n",
    "plt.figure(figsize=(6,6))\n",
    "scatter = plt.scatter(pca_df['PC1'], pca_df['PC2'], c=pca_df['Cluster'], cmap = cm.tab10, s=50)\n",
    "plt.title(r'Cluster of interesting umbrella Tangles of $F^3$ with agreement $\\geq 3$')\n",
    "plt.xlabel('$p_1$')\n",
    "plt.ylabel('$p_2$')\n",
    "\n",
    "for i in range(10):\n",
    "    plt.scatter([], [], c=[cm.tab10(plt.Normalize(0, 9)(i))], label=str(i))\n",
    "plt.legend(title='Cluster', loc='best')\n",
    "#plt.savefig('/home/ocke/Documents/BA-Tangles/tex/images/cluster_ag3.png', bbox_inches='tight')"
   ]
  },
  {
   "cell_type": "markdown",
   "metadata": {},
   "source": [
    "Prints all tangles, sorted by cluster:"
   ]
  },
  {
   "cell_type": "code",
   "execution_count": null,
   "metadata": {},
   "outputs": [],
   "source": [
    "for i in np.unique(pca_df['Cluster'].values):\n",
    "    print('CLUSTER', i)\n",
    "    for t in np.where(pca_df['Cluster'] == i)[0]:\n",
    "        printkeywordsfromtm(interesting_umbrella_tm, t, lvltokeyword)"
   ]
  },
  {
   "cell_type": "markdown",
   "metadata": {},
   "source": [
    "Chooses the tangle with largest corpus for each cluster as it's representative:"
   ]
  },
  {
   "cell_type": "code",
   "execution_count": null,
   "metadata": {},
   "outputs": [],
   "source": [
    "representatives = []\n",
    "for i in np.unique(pca_df['Cluster'].values):\n",
    "    print('CLUSTER', i)\n",
    "    print('has ', (pca_df['Cluster'] == i).sum(), ' tangles')\n",
    "    mask =  np.where(pca_df['Cluster'] != i)[0]\n",
    "    masked_corpora = corpora_sizes.copy()\n",
    "    masked_corpora[mask] = 0\n",
    "    representative = np.argmax(masked_corpora)\n",
    "    representatives.append(representative)\n",
    "    printkeywordsfromtm(interesting_umbrella_tm, representative, lvltokeyword)\n",
    "    print(\"corpus has size \", masked_corpora[representative])\n",
    "    print(\"its core has size\", cores[representative])"
   ]
  },
  {
   "cell_type": "markdown",
   "metadata": {},
   "source": [
    "How many unique movies are in the corpora of the representatives?"
   ]
  },
  {
   "cell_type": "code",
   "execution_count": null,
   "metadata": {},
   "outputs": [],
   "source": [
    "(corpora[:,representatives].max(axis = 1) == 1).sum()"
   ]
  },
  {
   "cell_type": "markdown",
   "metadata": {},
   "source": [
    "The following is the Greedy Genre Ranking Algorithm:"
   ]
  },
  {
   "cell_type": "code",
   "execution_count": null,
   "metadata": {},
   "outputs": [],
   "source": [
    "genres = []\n",
    "genre_sizes = []\n",
    "cc = corpora.copy()\n",
    "#while 1 in cc:\n",
    "for i in range(20): #used to stop after j steps\n",
    "    next_genre = np.argmax(cc.sum(axis=0))\n",
    "    genres.append(next_genre)\n",
    "    genre_sizes.append(cc[:,next_genre].sum())\n",
    "    cc[cc[:,next_genre] == 1] = 0\n",
    "i = 1\n",
    "for t in genres:\n",
    "    printkeywordsfromtm(interesting_umbrella_tm, t, lvltokeyword)\n",
    "    print(i, \"-th genre contains\", corpora_sizes[t], \"movies\")\n",
    "    print(\"its core has size\", cores[t])\n",
    "    i +=1\n",
    "    "
   ]
  },
  {
   "cell_type": "markdown",
   "metadata": {},
   "source": [
    "How many unique movies are in the corprora of the first 10 greedely chosen tangels?"
   ]
  },
  {
   "cell_type": "code",
   "execution_count": null,
   "metadata": {},
   "outputs": [],
   "source": [
    "(corpora[:,genres[:10]].max(axis = 1) == 1).sum()"
   ]
  },
  {
   "cell_type": "code",
   "execution_count": null,
   "metadata": {},
   "outputs": [],
   "source": [
    "misc_tangles = [646, 653,906, 1053, 1092, 1146]\n",
    "print([cores[i] for i in misc_tangles])\n",
    "print([corpora_sizes[i] for i in misc_tangles])"
   ]
  },
  {
   "cell_type": "markdown",
   "metadata": {},
   "source": [
    "Genre Matrixes:"
   ]
  },
  {
   "cell_type": "code",
   "execution_count": null,
   "metadata": {},
   "outputs": [],
   "source": [
    "data = pd.read_csv('../data/data_F3.csv')\n",
    "data['keywords'] = data['keywords'].apply(lambda x: ast.literal_eval(x))\n",
    "data[\"genres\"] = data[\"genres\"].apply(lambda x: ast.literal_eval(x))\n",
    "len(data) == seps.shape[0]"
   ]
  },
  {
   "cell_type": "code",
   "execution_count": null,
   "metadata": {},
   "outputs": [],
   "source": [
    "np.sum([assigned_genres == [] for assigned_genres in data['genres']])"
   ]
  },
  {
   "cell_type": "code",
   "execution_count": null,
   "metadata": {},
   "outputs": [],
   "source": [
    "print(len(data))\n",
    "data['genres'].explode().value_counts() / len(data)"
   ]
  },
  {
   "cell_type": "code",
   "execution_count": null,
   "metadata": {},
   "outputs": [],
   "source": [
    "fig = plot_genre_mat(data, corpora, representatives)\n",
    "plt.title(\"representatives of clusters of tangles of $F^3$\")\n",
    "cbar = plt.colorbar(fig, orientation = \"horizontal\", pad = 0.03, shrink = 0.8)\n",
    "cbar.set_label(\"percentage of corpus tagged as genre\")\n",
    "cbar.set_ticks(ticks=[0.2,0.4,0.6,0.8],labels= [\"20%\", \"40%\", \"60%\", \"80%\"])\n",
    "#plt.savefig('/home/ocke/Documents/BA-Tangles/tex/images/genre_mat_cluster_3.png', bbox_inches='tight')"
   ]
  },
  {
   "cell_type": "code",
   "execution_count": null,
   "metadata": {},
   "outputs": [],
   "source": [
    "fig = plot_genre_mat(data, corpora, genres[:10])\n",
    "plt.title(\"first greedely ranked tangles of $F^3$\")\n",
    "cbar = plt.colorbar(fig, orientation = \"horizontal\", pad = 0.03, shrink = 0.8)\n",
    "cbar.set_label(\"percentage of corpus assinged to genre\")\n",
    "cbar.set_ticks(ticks=[0.2,0.4,0.6,0.8],labels= [\"20%\", \"40%\", \"60%\", \"80%\"])\n",
    "#plt.savefig('/home/ocke/Documents/BA-Tangles/tex/images/genre_mat_greedy_3.png', bbox_inches='tight')"
   ]
  },
  {
   "cell_type": "markdown",
   "metadata": {},
   "source": [
    "Miscellanious calucaltions below:"
   ]
  },
  {
   "cell_type": "markdown",
   "metadata": {},
   "source": [
    "How many movies are tagged with blood, blood and gore, and gore resp?"
   ]
  },
  {
   "cell_type": "code",
   "execution_count": null,
   "metadata": {},
   "outputs": [],
   "source": [
    "print((oriented_seps[:,12] == 1).sum())\n",
    "print((oriented_seps[oriented_seps[:,14] == 1,12] == 1).sum())\n",
    "print((oriented_seps[:,14] == 1).sum())"
   ]
  },
  {
   "cell_type": "markdown",
   "metadata": {},
   "source": [
    "Prints the corpora of the representatives of the clusters:"
   ]
  },
  {
   "cell_type": "code",
   "execution_count": null,
   "metadata": {},
   "outputs": [],
   "source": [
    "for i in range(10):\n",
    "    print(\"The corpus of the representative of cluster\", i, \"contains:\")\n",
    "    print(data['original_title'][corpora[:,representatives[i]] == 1])"
   ]
  }
 ],
 "metadata": {
  "kernelspec": {
   "display_name": "tangles-dev",
   "language": "python",
   "name": "python3"
  },
  "language_info": {
   "codemirror_mode": {
    "name": "ipython",
    "version": 3
   },
   "file_extension": ".py",
   "mimetype": "text/x-python",
   "name": "python",
   "nbconvert_exporter": "python",
   "pygments_lexer": "ipython3",
   "version": "3.11.8"
  }
 },
 "nbformat": 4,
 "nbformat_minor": 2
}
