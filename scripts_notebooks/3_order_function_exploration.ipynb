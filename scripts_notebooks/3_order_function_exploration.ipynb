{
 "cells": [
  {
   "cell_type": "code",
   "execution_count": null,
   "metadata": {},
   "outputs": [],
   "source": [
    "import numpy as np\n",
    "import pickle\n",
    "import matplotlib.pyplot as plt\n",
    "from movie_genre_tangles.convenience import *\n",
    "\n",
    "\n",
    "seps, sepidtokeyword = csv_to_setseperationsystem('../data/data_F3.csv')\n",
    "with open('../orders/orders_O12_K3', 'rb') as f:\n",
    "    order_O12 = pickle.load(f)\n",
    "lvltokeyword = [sepidtokeyword[x] for x in np.argsort(order_O12)[:140]]\n",
    "with open('../results/interesting_umbrella_tm_K3.pkl', 'rb') as f:\n",
    "    interesting_umbrella_tm = pickle.load(f)\n",
    "oriented_seps = seps[:,np.argsort(order_O12)[:140]]"
   ]
  },
  {
   "cell_type": "code",
   "execution_count": null,
   "metadata": {},
   "outputs": [],
   "source": [
    "labels = [sepidtokeyword[id][0] for id in np.argsort(order_O12)]\n",
    "sizes_O12 = [np.count_nonzero(seps[:,x] == 1) for x in np.argsort(order_O12)]\n",
    "plt.figure(figsize = (10,6))\n",
    "O12_str = np.argsort(order_O12).astype(str)\n",
    "plt.scatter(O12_str, np.array(sizes_O12), s = 4)\n",
    "plt.xticks(O12_str[::200], labels[::200], rotation=90)\n",
    "plt.xlabel('keyword $k$')\n",
    "plt.ylabel(r'$| \\vec{k} |$')\n",
    "plt.yscale('log')\n",
    "plt.axvline(140, color = 'r', linestyle ='--', label = \"keywords on the left will be oriented\")\n",
    "plt.legend()\n",
    "#plt.savefig('/home/ocke/Documents/BA-Tangles/tex/images/O12_sizes.png', bbox_inches='tight')"
   ]
  }
 ],
 "metadata": {
  "kernelspec": {
   "display_name": "tangles-dev",
   "language": "python",
   "name": "python3"
  },
  "language_info": {
   "codemirror_mode": {
    "name": "ipython",
    "version": 3
   },
   "file_extension": ".py",
   "mimetype": "text/x-python",
   "name": "python",
   "nbconvert_exporter": "python",
   "pygments_lexer": "ipython3",
   "version": "3.11.8"
  }
 },
 "nbformat": 4,
 "nbformat_minor": 2
}
