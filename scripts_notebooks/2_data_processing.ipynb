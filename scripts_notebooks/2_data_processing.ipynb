{
 "cells": [
  {
   "cell_type": "code",
   "execution_count": null,
   "id": "db1fbcdb-ec22-4bf5-a038-2c98ac5549a6",
   "metadata": {},
   "outputs": [],
   "source": [
    "import pandas as pd\n",
    "import matplotlib.pyplot as plt\n",
    "from collections import Counter"
   ]
  },
  {
   "cell_type": "code",
   "execution_count": null,
   "id": "8540ef86-549d-485c-90be-c533a721983a",
   "metadata": {},
   "outputs": [],
   "source": [
    "tabelle_keywords = pd.read_csv('../data/keywords.csv', dtype = {'id': int, 'keywords' : str}) #shape = (46419, 2)\n",
    "tabelle_keywords_nonempty = tabelle_keywords[tabelle_keywords['keywords'] != '[]'] "
   ]
  },
  {
   "cell_type": "code",
   "execution_count": null,
   "id": "53c08750",
   "metadata": {},
   "outputs": [],
   "source": [
    "def mehrfacheintraege(df, column):\n",
    "    counter_keywords = Counter(df[column])\n",
    "    multiple_occurrences = [item for item, count in counter_keywords.items() if count > 1]\n",
    "    if len(multiple_occurrences) == 0:\n",
    "        print('Es gibt keine Mehrfacheinträge.')\n",
    "        return \n",
    "    print('Es gibt ',len(multiple_occurrences),' Mehrfacheinträge.')\n",
    "    return multiple_occurrences\n",
    "\n",
    "multiple_occurrences_keywords = mehrfacheintraege(tabelle_keywords_nonempty, 'id')"
   ]
  },
  {
   "cell_type": "code",
   "execution_count": null,
   "id": "4193999a",
   "metadata": {},
   "outputs": [],
   "source": [
    "def remove_mehrfacheintraege(dataframe, column1, column2, mehrfacheintraege):\n",
    "    df = dataframe.copy()\n",
    "    df['gleichheit_temp'] = df.groupby(column1)[column2].transform(lambda x:x.nunique() == 1)\n",
    "    if not df['gleichheit_temp'].all():\n",
    "        print('Error: Infos gehen verloren')\n",
    "        return\n",
    "    df.drop(columns = 'gleichheit_temp', axis = 1, inplace = True)\n",
    "    eintraege_to_remove = []\n",
    "    for dup in mehrfacheintraege:\n",
    "        eintraege_to_remove.append(df[df[column1] == dup].index[0])\n",
    "    return df.drop(eintraege_to_remove)\n",
    "\n",
    "tabelle_keywords_clean = remove_mehrfacheintraege(tabelle_keywords_nonempty, 'id', 'keywords', multiple_occurrences_keywords)\n",
    "mehrfacheintraege(tabelle_keywords_clean, 'id')"
   ]
  },
  {
   "cell_type": "code",
   "execution_count": null,
   "id": "157397a0-fa12-4e4f-b892-13098209a070",
   "metadata": {},
   "outputs": [],
   "source": [
    "tabelle_titles = pd.read_csv('../data/movies_metadata.csv', usecols=['id','original_title', 'genres'], dtype = {'id': int, 'original_title': str}, skiprows = [19731,29504,35588])"
   ]
  },
  {
   "cell_type": "code",
   "execution_count": null,
   "id": "c75e9ffa-d545-41dd-8e43-32de445aa25c",
   "metadata": {},
   "outputs": [],
   "source": [
    "multiple_occurences_titles = mehrfacheintraege(tabelle_titles, 'id')\n",
    "tabelle_titles_temp = remove_mehrfacheintraege(tabelle_titles, 'id','original_title', multiple_occurences_titles)\n",
    "multiple_occurences_titles = mehrfacheintraege(tabelle_titles_temp, 'id')\n",
    "tabelle_titles_clean = remove_mehrfacheintraege(tabelle_titles, 'id','original_title', multiple_occurences_titles)\n",
    "mehrfacheintraege(tabelle_keywords_clean, 'id')"
   ]
  },
  {
   "cell_type": "code",
   "execution_count": null,
   "id": "6f00b2b3-1813-45ce-a52d-d28d97c68518",
   "metadata": {},
   "outputs": [],
   "source": [
    "tabelle = pd.merge(tabelle_keywords_clean, tabelle_titles_clean, how = 'left', on='id')"
   ]
  },
  {
   "cell_type": "code",
   "execution_count": null,
   "id": "060527d4",
   "metadata": {},
   "outputs": [],
   "source": [
    "def eintragtokeywords(string):\n",
    "    keywords = string.rsplit(sep = '\\'name\\': ')\n",
    "    keywords = keywords[1:]\n",
    "    for i in range(len(keywords)):\n",
    "        n=0\n",
    "        while(keywords[i][n] != '}'):\n",
    "            n +=1\n",
    "        keywords[i] = keywords[i][1:n-1]\n",
    "    return keywords\n",
    "\n",
    "tabelle['keywords'] = tabelle['keywords'].transform(lambda x: eintragtokeywords(x))\n",
    "tabelle['|keywords|'] = tabelle['keywords'].transform(lambda x: len(x))\n",
    "tabelle['genres'] = tabelle['genres'].transform(lambda x : eintragtokeywords(x))\n",
    "\n",
    "print('Unsere Tablle enthält', len(tabelle), 'Filme, die mit', len(tabelle.explode('keywords')['keywords'].unique()) ,'unterschiedlichen Schlagworten insgesamt',tabelle['|keywords|'].sum(),'mal verschlagwortet wurden.')"
   ]
  },
  {
   "cell_type": "code",
   "execution_count": null,
   "id": "cd12b451-c35d-4193-a21c-97aceac9027c",
   "metadata": {},
   "outputs": [],
   "source": [
    "plt.figure(figsize = (10,6))\n",
    "plt.scatter(tabelle['|keywords|'].value_counts().keys(), tabelle['|keywords|'].value_counts())\n",
    "plt.ylabel('Amount of movies with $n$ keywords')\n",
    "plt.xlabel('$n$')\n",
    "plt.xscale('log')\n",
    "plt.xticks([1,2,3,5,10,100],[1,2,3,5,10,100])\n",
    "#plt.savefig('/home/ocke/Documents/BA-Tangles/tex/images/verteilung_|keywords|.png')\n",
    "plt.show"
   ]
  },
  {
   "cell_type": "code",
   "execution_count": null,
   "id": "eaaa9060",
   "metadata": {},
   "outputs": [],
   "source": [
    "#löscht alle Schlagwörter, die nicht in filter_dict vorkommen aus dem Eintrag keywords\n",
    "def filter(keywords, filter_dict): \n",
    "    keywords_filtered = []\n",
    "    for keyword in keywords:\n",
    "        if keyword in filter_dict.keys():\n",
    "            keywords_filtered.append(keyword)\n",
    "    return keywords_filtered\n",
    "\n",
    "#löscht abwechselnd alle Schlägwörter die <= agreement mal vorkommen und alle Filme mit <3 Schlagwörtern,\n",
    "#bis alle Filme mind. 3 Schlagwörter haben und jedes Schlagwort mind. 3 mal vorkommt.\n",
    "def clean_data(df, agreement): \n",
    "    if '|keywords|' not in df.columns:\n",
    "        print('das ist nur für das data df')\n",
    "    data = df.copy()\n",
    "    rein = True\n",
    "    j = 0\n",
    "    while rein:\n",
    "        seps_dict = {}\n",
    "        for i in data.index:\n",
    "            for keyword in data.loc[i, 'keywords']:\n",
    "                seps_dict[keyword] = seps_dict.get(keyword, [])\n",
    "                seps_dict[keyword].append(data.loc[i, 'id'])\n",
    "        seps_dict_clean = {}\n",
    "        for a in seps_dict.keys():               \n",
    "            if len(seps_dict[a]) >= agreement:\n",
    "                seps_dict_clean[a] = seps_dict[a]\n",
    "        \n",
    "        rein = (len(seps_dict) != len(seps_dict_clean))    \n",
    "\n",
    "        data['keywords_temp'] = data['keywords'].transform(lambda x : filter(x, seps_dict_clean))\n",
    "        data['|keywords_temp|'] = data['keywords_temp'].transform(lambda x : len(x))\n",
    "        data = data[data['|keywords_temp|'] >= 3]\n",
    "        \n",
    "        data['keywords'] = data['keywords_temp']\n",
    "        data['|keywords|'] = data['|keywords_temp|']\n",
    "        data.drop(columns = ['keywords_temp','|keywords_temp|'], inplace = True)\n",
    "        j+=1\n",
    "    data = data.reset_index(drop=True)\n",
    "    print('j = ',j-1)\n",
    "    return data"
   ]
  },
  {
   "cell_type": "code",
   "execution_count": null,
   "id": "f83f899f",
   "metadata": {},
   "outputs": [],
   "source": [
    "data = clean_data(tabelle, 3)\n",
    "data.to_csv('../data/data_F3.csv')"
   ]
  },
  {
   "cell_type": "code",
   "execution_count": null,
   "id": "1e1c3bd4",
   "metadata": {},
   "outputs": [],
   "source": [
    "data_F10 = clean_data(tabelle, 10)\n",
    "data_F10.to_csv('../data/data_F10.csv')"
   ]
  },
  {
   "cell_type": "code",
   "execution_count": null,
   "id": "764fded1",
   "metadata": {},
   "outputs": [],
   "source": [
    "data_F24 = clean_data(tabelle, 24)\n",
    "data_F24.to_csv('../data/data_F24.csv')"
   ]
  },
  {
   "cell_type": "code",
   "execution_count": null,
   "id": "13152746",
   "metadata": {},
   "outputs": [],
   "source": [
    "plt.figure(figsize = (10,6))\n",
    "plt.scatter(data['|keywords|'].value_counts().keys(), data['|keywords|'].value_counts())\n",
    "plt.ylabel('Amount of movies with $n$ keywords')\n",
    "plt.xlabel('$n$')\n",
    "plt.xscale('log')\n",
    "plt.xticks([3,5,10,100],[3,5,10,100])\n",
    "#plt.savefig('/home/ocke/Documents/BA-Tangles/tex/images/verteilung_|keywords|_M.png')\n",
    "plt.show"
   ]
  },
  {
   "cell_type": "markdown",
   "id": "a94c037b",
   "metadata": {},
   "source": [
    "#TODO löschen?!"
   ]
  },
  {
   "cell_type": "code",
   "execution_count": null,
   "id": "1e2f3f99",
   "metadata": {},
   "outputs": [],
   "source": [
    "seps_dict = {}\n",
    "for i in data.index:\n",
    "    for keyword in data.loc[i, 'keywords']:\n",
    "        seps_dict[keyword] = seps_dict.get(keyword, [])\n",
    "        seps_dict[keyword].append(data.loc[i, 'id'])        \n",
    "verteilung_seps = {a : len(seps_dict[a]) for a in seps_dict.keys()}\n",
    "verteilung_counter = Counter(verteilung_seps.values())\n",
    "x_values = sorted(verteilung_counter.keys())\n",
    "y_values = [verteilung_counter[a] for a in x_values]\n",
    "plt.figure(figsize = (10,6))\n",
    "plt.scatter(x_values,y_values, marker = 'o')\n",
    "plt.yscale('log')\n",
    "plt.xscale('log')\n",
    "plt.xlabel('$n$')\n",
    "plt.xticks([3,5,10,100,1000], [3,5,10,100,1000])\n",
    "plt.ylabel('Amount of keywords assinged $n$-times')\n",
    "#plt.savefig('/home/ocke/Documents/BA-Tangles/tex/images/verteilung_vec_k.png')\n",
    "plt.show"
   ]
  },
  {
   "cell_type": "code",
   "execution_count": null,
   "id": "86f56921",
   "metadata": {},
   "outputs": [],
   "source": [
    "print('F3 enthält', len(data), 'Filme, die mit', len(data.explode('keywords')['keywords'].unique()) ,'unterschiedlichen Schlagworten insgesamt',data['|keywords|'].sum(),'mal verschlagwortet wurden.')"
   ]
  },
  {
   "cell_type": "code",
   "execution_count": null,
   "id": "ec687255",
   "metadata": {},
   "outputs": [],
   "source": [
    "print('F10 enthält', len(data_F10), 'Filme, die mit', len(data_F10.explode('keywords')['keywords'].unique()) ,'unterschiedlichen Schlagworten insgesamt',data_F10['|keywords|'].sum(),'mal verschlagwortet wurden.')"
   ]
  },
  {
   "cell_type": "code",
   "execution_count": null,
   "id": "7ac989d5",
   "metadata": {},
   "outputs": [],
   "source": [
    "print('F24 enthält', len(data_F24), 'Filme, die mit', len(data_F24.explode('keywords')['keywords'].unique()) ,'unterschiedlichen Schlagworten insgesamt',data_F24['|keywords|'].sum(),'mal verschlagwortet wurden.')"
   ]
  }
 ],
 "metadata": {
  "kernelspec": {
   "display_name": "tangles-dev",
   "language": "python",
   "name": "python3"
  },
  "language_info": {
   "codemirror_mode": {
    "name": "ipython",
    "version": 3
   },
   "file_extension": ".py",
   "mimetype": "text/x-python",
   "name": "python",
   "nbconvert_exporter": "python",
   "pygments_lexer": "ipython3",
   "version": "3.11.8"
  }
 },
 "nbformat": 4,
 "nbformat_minor": 5
}
