{
 "cells": [
  {
   "cell_type": "code",
   "execution_count": null,
   "metadata": {},
   "outputs": [],
   "source": [
    "%load_ext autoreload\n",
    "%autoreload 2"
   ]
  },
  {
   "cell_type": "code",
   "execution_count": null,
   "metadata": {},
   "outputs": [],
   "source": [
    "import numpy as np\n",
    "import pandas as pd\n",
    "import ast\n",
    "import pickle\n",
    "from tangles.separations import SetSeparationSystem\n",
    "import matplotlib.pyplot as plt\n",
    "import matplotlib.cm as cm\n",
    "from matplotlib.patches import Patch\n",
    "from movie_genre_tangles.convenience import *\n",
    "from sklearn.decomposition import PCA\n",
    "from sklearn.metrics import silhouette_score\n",
    "from sklearn.cluster import KMeans\n",
    "from tangles.search import TangleSearchTree"
   ]
  },
  {
   "cell_type": "code",
   "execution_count": null,
   "metadata": {},
   "outputs": [],
   "source": [
    "seps, sepidtokeyword = csv_to_setseperationsystem('../data/data_F24.csv')\n",
    "with open('../orders/orders_O12_K24', 'rb') as f:\n",
    "    order_O12 = pickle.load(f)\n",
    "lvltokeyword = [sepidtokeyword[x] for x in np.argsort(order_O12)]\n",
    "with open('../results/interesting_umbrella_tm_K24.pkl', 'rb') as f:\n",
    "    interesting_umbrella_tm = pickle.load(f)\n",
    "oriented_seps = seps[:,np.argsort(order_O12)]"
   ]
  },
  {
   "cell_type": "code",
   "execution_count": null,
   "metadata": {},
   "outputs": [],
   "source": [
    "lvltokeyword"
   ]
  },
  {
   "cell_type": "markdown",
   "metadata": {},
   "source": [
    "Checks if any level is associated with more than one keyword:"
   ]
  },
  {
   "cell_type": "code",
   "execution_count": null,
   "metadata": {},
   "outputs": [],
   "source": [
    "np.any([len(x) > 1 for x in lvltokeyword])"
   ]
  },
  {
   "cell_type": "code",
   "execution_count": null,
   "metadata": {},
   "outputs": [],
   "source": [
    "for i in range(interesting_umbrella_tm.shape[0]):\n",
    "    printkeywordsfromtm(interesting_umbrella_tm, i , lvltokeyword)"
   ]
  },
  {
   "cell_type": "markdown",
   "metadata": {},
   "source": [
    "Calculates the sizes of the corpora of the tangles:"
   ]
  },
  {
   "cell_type": "code",
   "execution_count": null,
   "metadata": {},
   "outputs": [],
   "source": [
    "corpora = np.zeros((seps.shape[0], interesting_umbrella_tm.shape[0]))\n",
    "for i in range(seps.shape[0]):\n",
    "    match = (interesting_umbrella_tm[:,(oriented_seps[i] == 1)] == 1).sum(axis = 1)\n",
    "    corpora[i, np.where(match >= 3)] = 1\n",
    "corpora_sizes = (corpora == 1).sum(axis = 0)"
   ]
  },
  {
   "cell_type": "markdown",
   "metadata": {},
   "source": [
    "How many movies are in the corpora of interesing umbrella tangles?"
   ]
  },
  {
   "cell_type": "code",
   "execution_count": null,
   "metadata": {},
   "outputs": [],
   "source": [
    "(corpora.max(axis = 1) == 1).sum()"
   ]
  },
  {
   "cell_type": "markdown",
   "metadata": {},
   "source": [
    "Plots the matrix containing the interesting umbrella tangles:"
   ]
  },
  {
   "cell_type": "code",
   "execution_count": null,
   "metadata": {},
   "outputs": [],
   "source": [
    "cmap = plt.get_cmap('viridis')\n",
    "legend_elements = [\n",
    "    Patch(facecolor=cmap(1.0), label='positive side'),\n",
    "    Patch(facecolor=cmap(0.0), label='negative side'),\n",
    "    Patch(facecolor=cmap(0.5), label='neither'),\n",
    "]\n",
    "\n",
    "plt.matshow(interesting_umbrella_tm)\n",
    "plt.gca().set_aspect('auto')\n",
    "plt.gca().xaxis.set_label_position('top')\n",
    "plt.xlabel('level of seperation')\n",
    "plt.ylabel('tangle')\n",
    "plt.xticks(ticks= range(933)[::25], rotation = 45)\n",
    "plt.legend(handles=legend_elements, bbox_to_anchor=(1, 0.98), title = 'tangle contains')\n",
    "plt.savefig('/home/ocke/Documents/BA-Tangles/tex/images/tm_O12_F24.png', bbox_inches='tight')"
   ]
  },
  {
   "cell_type": "markdown",
   "metadata": {},
   "source": [
    "Counts keywords, that are not contained in any tangle:"
   ]
  },
  {
   "cell_type": "code",
   "execution_count": null,
   "metadata": {},
   "outputs": [],
   "source": [
    "not_contained_keywords = [lvltokeyword[x] for x in np.where((interesting_umbrella_tm == 1).sum(axis = 0) == 0)[0]]\n",
    "len(not_contained_keywords)"
   ]
  },
  {
   "cell_type": "markdown",
   "metadata": {},
   "source": [
    "Calculates the core of each tangle and counts the tangles with less than 3 movies in its core:"
   ]
  },
  {
   "cell_type": "code",
   "execution_count": null,
   "metadata": {},
   "outputs": [],
   "source": [
    "cores = {}\n",
    "for i in range(interesting_umbrella_tm.shape[0]):\n",
    "    pos = np.where(interesting_umbrella_tm[i] == 1)[0]\n",
    "    core = np.where(oriented_seps[:,pos].min(axis = 1) == 1)[0]\n",
    "    if core.size > 0:\n",
    "        cores[i] = core   \n",
    "len([x for x in cores.values() if x.size < 3])"
   ]
  },
  {
   "cell_type": "code",
   "execution_count": null,
   "metadata": {},
   "outputs": [],
   "source": [
    "data = pd.read_csv('../data/data_F24.csv')\n",
    "data['keywords'] = data['keywords'].apply(lambda x: ast.literal_eval(x))\n",
    "data[\"genres\"] = data[\"genres\"].apply(lambda x: ast.literal_eval(x))"
   ]
  },
  {
   "cell_type": "code",
   "execution_count": null,
   "metadata": {},
   "outputs": [],
   "source": [
    "np.sum([assigned_genres == [] for assigned_genres in data['genres']])"
   ]
  },
  {
   "cell_type": "code",
   "execution_count": null,
   "metadata": {},
   "outputs": [],
   "source": [
    "print(len(data))\n",
    "data['genres'].explode().value_counts() /len(data)"
   ]
  },
  {
   "cell_type": "code",
   "execution_count": null,
   "metadata": {},
   "outputs": [],
   "source": [
    "fig = plot_genre_mat(data, corpora, range(19))\n",
    "plt.title(r\"tangle $\\tau$\")\n",
    "cbar = plt.colorbar(fig, orientation = \"horizontal\", pad = 0.03, shrink = 0.8)\n",
    "cbar.set_label(\"percentage of corpus tagged as genre\")\n",
    "cbar.set_ticks(ticks=[0.2,0.4,0.6,0.8],labels= [\"20%\", \"40%\", \"60%\", \"80%\"])\n",
    "plt.savefig('/home/ocke/Documents/BA-Tangles/tex/images/genre_mat_F24.png', bbox_inches='tight')"
   ]
  }
 ],
 "metadata": {
  "kernelspec": {
   "display_name": "tangles-dev",
   "language": "python",
   "name": "python3"
  },
  "language_info": {
   "codemirror_mode": {
    "name": "ipython",
    "version": 3
   },
   "file_extension": ".py",
   "mimetype": "text/x-python",
   "name": "python",
   "nbconvert_exporter": "python",
   "pygments_lexer": "ipython3",
   "version": "3.11.8"
  }
 },
 "nbformat": 4,
 "nbformat_minor": 2
}
